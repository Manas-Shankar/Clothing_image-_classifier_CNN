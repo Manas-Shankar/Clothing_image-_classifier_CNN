{
 "cells": [
  {
   "cell_type": "code",
   "execution_count": 1,
   "metadata": {
    "_cell_guid": "b1076dfc-b9ad-4769-8c92-a6c4dae69d19",
    "_uuid": "8f2839f25d086af736a60e9eeb907d3b93b6e0e5",
    "execution": {
     "iopub.execute_input": "2020-11-23T13:17:00.585748Z",
     "iopub.status.busy": "2020-11-23T13:17:00.584947Z",
     "iopub.status.idle": "2020-11-23T13:17:05.958849Z",
     "shell.execute_reply": "2020-11-23T13:17:05.959478Z"
    },
    "papermill": {
     "duration": 5.410373,
     "end_time": "2020-11-23T13:17:05.959665",
     "exception": false,
     "start_time": "2020-11-23T13:17:00.549292",
     "status": "completed"
    },
    "tags": []
   },
   "outputs": [
    {
     "name": "stdout",
     "output_type": "stream",
     "text": [
      "['t10k-images-idx3-ubyte', 'train-labels-idx1-ubyte', 'fashion-mnist_train.csv', 'train-images-idx3-ubyte', 't10k-labels-idx1-ubyte', 'fashion-mnist_test.csv']\n"
     ]
    }
   ],
   "source": [
    "#ignore warnings\n",
    "import warnings\n",
    "warnings.filterwarnings('ignore')\n",
    "\n",
    "import numpy as np\n",
    "import pandas as pd\n",
    "import math\n",
    "import itertools\n",
    "\n",
    "#sklearn modules\n",
    "from sklearn.model_selection import cross_val_score,train_test_split\n",
    "from sklearn.metrics import confusion_matrix,classification_report\n",
    "from sklearn.metrics import accuracy_score,precision_score,recall_score,f1_score \n",
    "\n",
    "#keras modules\n",
    "from keras.models import Sequential,load_model\n",
    "from keras import layers\n",
    "from keras.preprocessing.image import ImageDataGenerator\n",
    "from keras.optimizers import Adam,RMSprop\n",
    "from keras.utils import to_categorical\n",
    "from keras.callbacks import ReduceLROnPlateau, LearningRateScheduler\n",
    "\n",
    "#graph visualization\n",
    "import matplotlib.pyplot as plt\n",
    "import seaborn as sns\n",
    "import matplotlib as mpl\n",
    "import matplotlib.pylab as pylab\n",
    "\n",
    "import os\n",
    "print(os.listdir('../input/fashionmnist'))\n",
    "\n",
    "#configure graphs\n",
    "%matplotlib inline\n",
    "mpl.style.use( 'ggplot' )\n",
    "plt.style.use('fivethirtyeight')\n",
    "sns.set(context=\"notebook\", palette=\"dark\", style = 'whitegrid' , color_codes=True)"
   ]
  },
  {
   "cell_type": "code",
   "execution_count": null,
   "metadata": {
    "_cell_guid": "79c7e3d0-c299-4dcb-8224-4455121ee9b0",
    "_uuid": "d629ff2d2480ee46fbb7e2d37f6b5fab8052498a",
    "papermill": {
     "duration": 0.032053,
     "end_time": "2020-11-23T13:17:06.022498",
     "exception": false,
     "start_time": "2020-11-23T13:17:05.990445",
     "status": "completed"
    },
    "tags": []
   },
   "outputs": [],
   "source": []
  },
  {
   "cell_type": "code",
   "execution_count": 2,
   "metadata": {
    "execution": {
     "iopub.execute_input": "2020-11-23T13:17:06.080979Z",
     "iopub.status.busy": "2020-11-23T13:17:06.079689Z",
     "iopub.status.idle": "2020-11-23T13:17:14.189710Z",
     "shell.execute_reply": "2020-11-23T13:17:14.190624Z"
    },
    "papermill": {
     "duration": 8.14408,
     "end_time": "2020-11-23T13:17:14.190824",
     "exception": false,
     "start_time": "2020-11-23T13:17:06.046744",
     "status": "completed"
    },
    "tags": []
   },
   "outputs": [
    {
     "name": "stdout",
     "output_type": "stream",
     "text": [
      "   label  pixel1  pixel2  pixel3  pixel4  pixel5  pixel6  pixel7  pixel8  \\\n",
      "0      2       0       0       0       0       0       0       0       0   \n",
      "1      9       0       0       0       0       0       0       0       0   \n",
      "2      6       0       0       0       0       0       0       0       5   \n",
      "3      0       0       0       0       1       2       0       0       0   \n",
      "4      3       0       0       0       0       0       0       0       0   \n",
      "\n",
      "   pixel9  ...  pixel775  pixel776  pixel777  pixel778  pixel779  pixel780  \\\n",
      "0       0  ...         0         0         0         0         0         0   \n",
      "1       0  ...         0         0         0         0         0         0   \n",
      "2       0  ...         0         0         0        30        43         0   \n",
      "3       0  ...         3         0         0         0         0         1   \n",
      "4       0  ...         0         0         0         0         0         0   \n",
      "\n",
      "   pixel781  pixel782  pixel783  pixel784  \n",
      "0         0         0         0         0  \n",
      "1         0         0         0         0  \n",
      "2         0         0         0         0  \n",
      "3         0         0         0         0  \n",
      "4         0         0         0         0  \n",
      "\n",
      "[5 rows x 785 columns] (60000, 785) (10000, 785)\n"
     ]
    }
   ],
   "source": [
    "train = pd.read_csv('../input/fashionmnist/fashion-mnist_train.csv')\n",
    "test = pd.read_csv('../input/fashionmnist/fashion-mnist_test.csv')\n",
    "df = train.copy()\n",
    "df_test = test.copy()\n",
    "print(df.head(),df.shape,df_test.shape)"
   ]
  },
  {
   "cell_type": "code",
   "execution_count": 3,
   "metadata": {
    "execution": {
     "iopub.execute_input": "2020-11-23T13:17:14.239962Z",
     "iopub.status.busy": "2020-11-23T13:17:14.238019Z",
     "iopub.status.idle": "2020-11-23T13:17:14.262144Z",
     "shell.execute_reply": "2020-11-23T13:17:14.262810Z"
    },
    "papermill": {
     "duration": 0.052655,
     "end_time": "2020-11-23T13:17:14.262941",
     "exception": false,
     "start_time": "2020-11-23T13:17:14.210286",
     "status": "completed"
    },
    "tags": []
   },
   "outputs": [
    {
     "name": "stdout",
     "output_type": "stream",
     "text": [
      "list of classes: [2 9 6 0 3 4 5 8 7 1]\n",
      "null values in train: 0\n",
      "null values in test: 0\n"
     ]
    }
   ],
   "source": [
    "print('list of classes:',df.label.unique()) #list all classes\n",
    "print('null values in train:',df.isnull().any().sum())\n",
    "print('null values in test:',df_test.isnull().any().sum())\n",
    "\n",
    "# mapping classes in a dictionary\n",
    "clothing = {0 : 'T-shirt/top',\n",
    "            1 : 'Trouser',\n",
    "            2 : 'Pullover',\n",
    "            3 : 'Dress',\n",
    "            4 : 'Coat',\n",
    "            5 : 'Sandal',\n",
    "            6 : 'Shirt',\n",
    "            7 : 'Sneaker',\n",
    "            8 : 'Bag',\n",
    "            9 : 'Ankle boot'}"
   ]
  },
  {
   "cell_type": "code",
   "execution_count": 4,
   "metadata": {
    "execution": {
     "iopub.execute_input": "2020-11-23T13:17:14.310145Z",
     "iopub.status.busy": "2020-11-23T13:17:14.309414Z",
     "iopub.status.idle": "2020-11-23T13:17:19.196356Z",
     "shell.execute_reply": "2020-11-23T13:17:19.196933Z"
    },
    "papermill": {
     "duration": 4.914924,
     "end_time": "2020-11-23T13:17:19.197203",
     "exception": false,
     "start_time": "2020-11-23T13:17:14.282279",
     "status": "completed"
    },
    "tags": []
   },
   "outputs": [
    {
     "data": {
      "image/png": "[encoded data removed]",
      "text/plain": [
       "<Figure size 1080x1080 with 16 Axes>"
      ]
     },
     "metadata": {},
     "output_type": "display_data"
    }
   ],
   "source": [
    "figure,axes = plt.subplots(4,4,figsize=(15,15))\n",
    "for idx,row in enumerate(axes):\n",
    "    for axe in row:\n",
    "        index = np.random.randint(60000) #random images from train set\n",
    "        img = df.drop('label',axis=1).values[index].reshape(28,28)\n",
    "        cloths = df.loc[index,'label']\n",
    "        axe.imshow(img,cmap='gray')\n",
    "        axe.set_title(clothing[cloths])\n",
    "        axe.set_axis_off()"
   ]
  },
  {
   "cell_type": "code",
   "execution_count": 5,
   "metadata": {
    "execution": {
     "iopub.execute_input": "2020-11-23T13:17:19.247238Z",
     "iopub.status.busy": "2020-11-23T13:17:19.246409Z",
     "iopub.status.idle": "2020-11-23T13:17:19.556680Z",
     "shell.execute_reply": "2020-11-23T13:17:19.557213Z"
    },
    "papermill": {
     "duration": 0.336845,
     "end_time": "2020-11-23T13:17:19.557350",
     "exception": false,
     "start_time": "2020-11-23T13:17:19.220505",
     "status": "completed"
    },
    "tags": []
   },
   "outputs": [
    {
     "name": "stdout",
     "output_type": "stream",
     "text": [
      "9    6000\n",
      "8    6000\n",
      "7    6000\n",
      "6    6000\n",
      "5    6000\n",
      "4    6000\n",
      "3    6000\n",
      "2    6000\n",
      "1    6000\n",
      "0    6000\n",
      "Name: label, dtype: int64\n"
     ]
    },
    {
     "data": {
      "image/png": "[encoded data removed]",
      "text/plain": [
       "<Figure size 432x288 with 1 Axes>"
      ]
     },
     "metadata": {},
     "output_type": "display_data"
    }
   ],
   "source": [
    "#visualizing number of examples for each class\n",
    "print(df['label'].value_counts())\n",
    "sns.countplot(x=df['label'],data = df)\n",
    "np.random.seed(66)"
   ]
  },
  {
   "cell_type": "code",
   "execution_count": 6,
   "metadata": {
    "execution": {
     "iopub.execute_input": "2020-11-23T13:17:19.613763Z",
     "iopub.status.busy": "2020-11-23T13:17:19.612810Z",
     "iopub.status.idle": "2020-11-23T13:17:19.933509Z",
     "shell.execute_reply": "2020-11-23T13:17:19.932911Z"
    },
    "papermill": {
     "duration": 0.353045,
     "end_time": "2020-11-23T13:17:19.933631",
     "exception": false,
     "start_time": "2020-11-23T13:17:19.580586",
     "status": "completed"
    },
    "tags": []
   },
   "outputs": [],
   "source": [
    "# train-test-split\n",
    "X = train.iloc[:,1:]\n",
    "Y = train.iloc[:,0]\n",
    "x_train,x_test,y_train,y_test = train_test_split(X,Y,test_size=0.1,random_state=66)\n",
    "x_train = x_train.values.reshape((-1,28,28,1))\n",
    "x_test = x_test.values.reshape((-1,28,28,1))\n",
    "\n",
    "df_test.drop('label',axis=1,inplace=True)\n",
    "df_test = df_test.values.reshape((-1,28,28,1))"
   ]
  },
  {
   "cell_type": "code",
   "execution_count": 7,
   "metadata": {
    "execution": {
     "iopub.execute_input": "2020-11-23T13:17:19.981479Z",
     "iopub.status.busy": "2020-11-23T13:17:19.980441Z",
     "iopub.status.idle": "2020-11-23T13:17:20.098325Z",
     "shell.execute_reply": "2020-11-23T13:17:20.097760Z"
    },
    "papermill": {
     "duration": 0.143338,
     "end_time": "2020-11-23T13:17:20.098440",
     "exception": false,
     "start_time": "2020-11-23T13:17:19.955102",
     "status": "completed"
    },
    "tags": []
   },
   "outputs": [],
   "source": [
    "x_train = x_train.astype('float32')/255\n",
    "x_test = x_test.astype('float32')/255\n",
    "df_test = df_test.astype('float32')/255"
   ]
  },
  {
   "cell_type": "code",
   "execution_count": 8,
   "metadata": {
    "execution": {
     "iopub.execute_input": "2020-11-23T13:17:20.148917Z",
     "iopub.status.busy": "2020-11-23T13:17:20.147420Z",
     "iopub.status.idle": "2020-11-23T13:17:20.152511Z",
     "shell.execute_reply": "2020-11-23T13:17:20.151935Z"
    },
    "papermill": {
     "duration": 0.031942,
     "end_time": "2020-11-23T13:17:20.152621",
     "exception": false,
     "start_time": "2020-11-23T13:17:20.120679",
     "status": "completed"
    },
    "tags": []
   },
   "outputs": [],
   "source": [
    "#one hot encoding\n",
    "y_train = to_categorical(y_train,num_classes=10)\n",
    "y_test = to_categorical(y_test,num_classes=10)"
   ]
  },
  {
   "cell_type": "code",
   "execution_count": 9,
   "metadata": {
    "execution": {
     "iopub.execute_input": "2020-11-23T13:17:20.202910Z",
     "iopub.status.busy": "2020-11-23T13:17:20.202161Z",
     "iopub.status.idle": "2020-11-23T13:17:20.208336Z",
     "shell.execute_reply": "2020-11-23T13:17:20.207551Z"
    },
    "papermill": {
     "duration": 0.033444,
     "end_time": "2020-11-23T13:17:20.208470",
     "exception": false,
     "start_time": "2020-11-23T13:17:20.175026",
     "status": "completed"
    },
    "tags": []
   },
   "outputs": [
    {
     "name": "stdout",
     "output_type": "stream",
     "text": [
      "(54000, 10) (6000, 10)\n"
     ]
    }
   ],
   "source": [
    "print(y_train.shape,y_test.shape)"
   ]
  },
  {
   "cell_type": "code",
   "execution_count": 10,
   "metadata": {
    "execution": {
     "iopub.execute_input": "2020-11-23T13:17:20.268073Z",
     "iopub.status.busy": "2020-11-23T13:17:20.267390Z",
     "iopub.status.idle": "2020-11-23T13:17:23.004897Z",
     "shell.execute_reply": "2020-11-23T13:17:23.003659Z"
    },
    "papermill": {
     "duration": 2.773639,
     "end_time": "2020-11-23T13:17:23.005042",
     "exception": false,
     "start_time": "2020-11-23T13:17:20.231403",
     "status": "completed"
    },
    "tags": []
   },
   "outputs": [],
   "source": [
    "# CNN \n",
    "model = Sequential([layers.Conv2D(kernel_size=(3,3),filters=32,padding='same',activation='relu',\n",
    "                                  strides=1,data_format='channels_last',input_shape=(28,28,1)),\n",
    "                    layers.BatchNormalization(),\n",
    "                    layers.Conv2D(kernel_size=(3,3),filters=32,padding='same',activation='relu',\n",
    "                                  strides=1,data_format='channels_last'),\n",
    "                    layers.BatchNormalization(),\n",
    "                    layers.Dropout(0.25),\n",
    "                    layers.Conv2D(kernel_size=(3,3),filters=64,padding='same',activation='relu',\n",
    "                                  strides=1,data_format='channels_last'),\n",
    "                    layers.MaxPooling2D(pool_size=(2,2)),\n",
    "                    layers.Dropout(0.25),\n",
    "                    layers.Conv2D(kernel_size=(3,3),filters=128,padding='same',activation='relu',\n",
    "                                  strides=1,data_format='channels_last'),\n",
    "                    layers.BatchNormalization(),\n",
    "                    layers.Dropout(0.25),\n",
    "                    layers.Flatten(),\n",
    "                    layers.Dense(512,activation='relu'),\n",
    "                    layers.BatchNormalization(),\n",
    "                    layers.Dropout(0.5),\n",
    "                    layers.Dense(128,activation='relu'),\n",
    "                    layers.BatchNormalization(),\n",
    "                    layers.Dropout(0.5),\n",
    "                    layers.Dense(10,activation='softmax')\n",
    "                   ])"
   ]
  },
  {
   "cell_type": "code",
   "execution_count": 11,
   "metadata": {
    "execution": {
     "iopub.execute_input": "2020-11-23T13:17:23.056448Z",
     "iopub.status.busy": "2020-11-23T13:17:23.054572Z",
     "iopub.status.idle": "2020-11-23T13:17:23.057135Z",
     "shell.execute_reply": "2020-11-23T13:17:23.057673Z"
    },
    "papermill": {
     "duration": 0.029178,
     "end_time": "2020-11-23T13:17:23.057790",
     "exception": false,
     "start_time": "2020-11-23T13:17:23.028612",
     "status": "completed"
    },
    "tags": []
   },
   "outputs": [],
   "source": [
    "opimizer = Adam(learning_rate=0.001,beta_1=0.9,beta_2=0.999)"
   ]
  },
  {
   "cell_type": "code",
   "execution_count": 12,
   "metadata": {
    "execution": {
     "iopub.execute_input": "2020-11-23T13:17:23.115402Z",
     "iopub.status.busy": "2020-11-23T13:17:23.114412Z",
     "iopub.status.idle": "2020-11-23T13:17:23.121914Z",
     "shell.execute_reply": "2020-11-23T13:17:23.121366Z"
    },
    "papermill": {
     "duration": 0.042171,
     "end_time": "2020-11-23T13:17:23.122007",
     "exception": false,
     "start_time": "2020-11-23T13:17:23.079836",
     "status": "completed"
    },
    "tags": []
   },
   "outputs": [],
   "source": [
    "model.compile(optimizer=opimizer,loss='categorical_crossentropy',metrics=['accuracy'])"
   ]
  },
  {
   "cell_type": "code",
   "execution_count": 13,
   "metadata": {
    "execution": {
     "iopub.execute_input": "2020-11-23T13:17:23.174283Z",
     "iopub.status.busy": "2020-11-23T13:17:23.172711Z",
     "iopub.status.idle": "2020-11-23T13:17:23.187287Z",
     "shell.execute_reply": "2020-11-23T13:17:23.188104Z"
    },
    "papermill": {
     "duration": 0.042969,
     "end_time": "2020-11-23T13:17:23.188328",
     "exception": false,
     "start_time": "2020-11-23T13:17:23.145359",
     "status": "completed"
    },
    "tags": []
   },
   "outputs": [
    {
     "name": "stdout",
     "output_type": "stream",
     "text": [
      "Model: \"sequential\"\n",
      "_________________________________________________________________\n",
      "Layer (type)                 Output Shape              Param #   \n",
      "=================================================================\n",
      "conv2d (Conv2D)              (None, 28, 28, 32)        320       \n",
      "_________________________________________________________________\n",
      "batch_normalization (BatchNo (None, 28, 28, 32)        128       \n",
      "_________________________________________________________________\n",
      "conv2d_1 (Conv2D)            (None, 28, 28, 32)        9248      \n",
      "_________________________________________________________________\n",
      "batch_normalization_1 (Batch (None, 28, 28, 32)        128       \n",
      "_________________________________________________________________\n",
      "dropout (Dropout)            (None, 28, 28, 32)        0         \n",
      "_________________________________________________________________\n",
      "conv2d_2 (Conv2D)            (None, 28, 28, 64)        18496     \n",
      "_________________________________________________________________\n",
      "max_pooling2d (MaxPooling2D) (None, 14, 14, 64)        0         \n",
      "_________________________________________________________________\n",
      "dropout_1 (Dropout)          (None, 14, 14, 64)        0         \n",
      "_________________________________________________________________\n",
      "conv2d_3 (Conv2D)            (None, 14, 14, 128)       73856     \n",
      "_________________________________________________________________\n",
      "batch_normalization_2 (Batch (None, 14, 14, 128)       512       \n",
      "_________________________________________________________________\n",
      "dropout_2 (Dropout)          (None, 14, 14, 128)       0         \n",
      "_________________________________________________________________\n",
      "flatten (Flatten)            (None, 25088)             0         \n",
      "_________________________________________________________________\n",
      "dense (Dense)                (None, 512)               12845568  \n",
      "_________________________________________________________________\n",
      "batch_normalization_3 (Batch (None, 512)               2048      \n",
      "_________________________________________________________________\n",
      "dropout_3 (Dropout)          (None, 512)               0         \n",
      "_________________________________________________________________\n",
      "dense_1 (Dense)              (None, 128)               65664     \n",
      "_________________________________________________________________\n",
      "batch_normalization_4 (Batch (None, 128)               512       \n",
      "_________________________________________________________________\n",
      "dropout_4 (Dropout)          (None, 128)               0         \n",
      "_________________________________________________________________\n",
      "dense_2 (Dense)              (None, 10)                1290      \n",
      "=================================================================\n",
      "Total params: 13,017,770\n",
      "Trainable params: 13,016,106\n",
      "Non-trainable params: 1,664\n",
      "_________________________________________________________________\n"
     ]
    }
   ],
   "source": [
    "model.summary()"
   ]
  },
  {
   "cell_type": "code",
   "execution_count": 14,
   "metadata": {
    "execution": {
     "iopub.execute_input": "2020-11-23T13:17:23.239030Z",
     "iopub.status.busy": "2020-11-23T13:17:23.238153Z",
     "iopub.status.idle": "2020-11-23T13:17:23.241901Z",
     "shell.execute_reply": "2020-11-23T13:17:23.241372Z"
    },
    "papermill": {
     "duration": 0.030097,
     "end_time": "2020-11-23T13:17:23.242001",
     "exception": false,
     "start_time": "2020-11-23T13:17:23.211904",
     "status": "completed"
    },
    "tags": []
   },
   "outputs": [],
   "source": [
    "#optimize learning rate for every epoch\n",
    "reduce_lr = LearningRateScheduler(lambda x : 1e-3*0.9**x)"
   ]
  },
  {
   "cell_type": "code",
   "execution_count": 15,
   "metadata": {
    "execution": {
     "iopub.execute_input": "2020-11-23T13:17:23.297859Z",
     "iopub.status.busy": "2020-11-23T13:17:23.296566Z",
     "iopub.status.idle": "2020-11-23T13:17:23.362914Z",
     "shell.execute_reply": "2020-11-23T13:17:23.363571Z"
    },
    "papermill": {
     "duration": 0.096978,
     "end_time": "2020-11-23T13:17:23.363721",
     "exception": false,
     "start_time": "2020-11-23T13:17:23.266743",
     "status": "completed"
    },
    "tags": []
   },
   "outputs": [],
   "source": [
    "# data augmentation to tackle overfitting\n",
    "datagen = ImageDataGenerator(\n",
    "        rotation_range = 8,  # randomly rotates image 0 to 180 degrees\n",
    "        zoom_range = 0.1,    # Randomly zooms image \n",
    "        shear_range = 0.3,   # shear angle in counter-clockwise direction in degrees  \n",
    "        width_shift_range=0.08,   # randomly shift images horizontally \n",
    "        height_shift_range=0.08,  # randomly shift images vertically \n",
    "        vertical_flip=True)       # randomly flip images vertically\n",
    "datagen.fit(x_train)"
   ]
  },
  {
   "cell_type": "code",
   "execution_count": 16,
   "metadata": {
    "execution": {
     "iopub.execute_input": "2020-11-23T13:17:23.418607Z",
     "iopub.status.busy": "2020-11-23T13:17:23.417812Z",
     "iopub.status.idle": "2020-11-23T13:31:08.787856Z",
     "shell.execute_reply": "2020-11-23T13:31:08.788590Z"
    },
    "papermill": {
     "duration": 825.401338,
     "end_time": "2020-11-23T13:31:08.788773",
     "exception": false,
     "start_time": "2020-11-23T13:17:23.387435",
     "status": "completed"
    },
    "tags": []
   },
   "outputs": [
    {
     "name": "stdout",
     "output_type": "stream",
     "text": [
      "Epoch 1/40\n",
      "421/421 - 23s - loss: 0.8222 - accuracy: 0.7052 - val_loss: 2.7695 - val_accuracy: 0.3295\n",
      "Epoch 2/40\n",
      "421/421 - 21s - loss: 0.5454 - accuracy: 0.8007 - val_loss: 0.4148 - val_accuracy: 0.8467\n",
      "Epoch 3/40\n",
      "421/421 - 21s - loss: 0.4650 - accuracy: 0.8306 - val_loss: 0.3468 - val_accuracy: 0.8712\n",
      "Epoch 4/40\n",
      "421/421 - 22s - loss: 0.4300 - accuracy: 0.8446 - val_loss: 0.3019 - val_accuracy: 0.8842\n",
      "Epoch 5/40\n",
      "421/421 - 21s - loss: 0.4006 - accuracy: 0.8551 - val_loss: 0.3010 - val_accuracy: 0.8898\n",
      "Epoch 6/40\n",
      "421/421 - 21s - loss: 0.3814 - accuracy: 0.8625 - val_loss: 0.2910 - val_accuracy: 0.8937\n",
      "Epoch 7/40\n",
      "421/421 - 22s - loss: 0.3642 - accuracy: 0.8704 - val_loss: 0.2678 - val_accuracy: 0.8990\n",
      "Epoch 8/40\n",
      "421/421 - 20s - loss: 0.3473 - accuracy: 0.8751 - val_loss: 0.2509 - val_accuracy: 0.9082\n",
      "Epoch 9/40\n",
      "421/421 - 20s - loss: 0.3383 - accuracy: 0.8789 - val_loss: 0.2577 - val_accuracy: 0.9035\n",
      "Epoch 10/40\n",
      "421/421 - 22s - loss: 0.3319 - accuracy: 0.8819 - val_loss: 0.2469 - val_accuracy: 0.9103\n",
      "Epoch 11/40\n",
      "421/421 - 20s - loss: 0.3164 - accuracy: 0.8877 - val_loss: 0.2229 - val_accuracy: 0.9163\n",
      "Epoch 12/40\n",
      "421/421 - 21s - loss: 0.3140 - accuracy: 0.8877 - val_loss: 0.2380 - val_accuracy: 0.9098\n",
      "Epoch 13/40\n",
      "421/421 - 21s - loss: 0.3024 - accuracy: 0.8916 - val_loss: 0.2187 - val_accuracy: 0.9200\n",
      "Epoch 14/40\n",
      "421/421 - 20s - loss: 0.2951 - accuracy: 0.8943 - val_loss: 0.2145 - val_accuracy: 0.9202\n",
      "Epoch 15/40\n",
      "421/421 - 21s - loss: 0.2896 - accuracy: 0.8958 - val_loss: 0.2025 - val_accuracy: 0.9242\n",
      "Epoch 16/40\n",
      "421/421 - 21s - loss: 0.2826 - accuracy: 0.8975 - val_loss: 0.2087 - val_accuracy: 0.9205\n",
      "Epoch 17/40\n",
      "421/421 - 21s - loss: 0.2825 - accuracy: 0.8983 - val_loss: 0.2050 - val_accuracy: 0.9248\n",
      "Epoch 18/40\n",
      "421/421 - 22s - loss: 0.2788 - accuracy: 0.9002 - val_loss: 0.2104 - val_accuracy: 0.9198\n",
      "Epoch 19/40\n",
      "421/421 - 20s - loss: 0.2740 - accuracy: 0.9027 - val_loss: 0.1960 - val_accuracy: 0.9272\n",
      "Epoch 20/40\n",
      "421/421 - 20s - loss: 0.2679 - accuracy: 0.9038 - val_loss: 0.2008 - val_accuracy: 0.9253\n",
      "Epoch 21/40\n",
      "421/421 - 22s - loss: 0.2696 - accuracy: 0.9034 - val_loss: 0.1985 - val_accuracy: 0.9258\n",
      "Epoch 22/40\n",
      "421/421 - 20s - loss: 0.2645 - accuracy: 0.9058 - val_loss: 0.1971 - val_accuracy: 0.9253\n",
      "Epoch 23/40\n",
      "421/421 - 20s - loss: 0.2614 - accuracy: 0.9058 - val_loss: 0.1953 - val_accuracy: 0.9268\n",
      "Epoch 24/40\n",
      "421/421 - 21s - loss: 0.2556 - accuracy: 0.9078 - val_loss: 0.1895 - val_accuracy: 0.9313\n",
      "Epoch 25/40\n",
      "421/421 - 20s - loss: 0.2586 - accuracy: 0.9070 - val_loss: 0.1911 - val_accuracy: 0.9300\n",
      "Epoch 26/40\n",
      "421/421 - 20s - loss: 0.2561 - accuracy: 0.9078 - val_loss: 0.1947 - val_accuracy: 0.9278\n",
      "Epoch 27/40\n",
      "421/421 - 21s - loss: 0.2545 - accuracy: 0.9101 - val_loss: 0.1887 - val_accuracy: 0.9293\n",
      "Epoch 28/40\n",
      "421/421 - 20s - loss: 0.2528 - accuracy: 0.9090 - val_loss: 0.1893 - val_accuracy: 0.9285\n",
      "Epoch 29/40\n",
      "421/421 - 19s - loss: 0.2484 - accuracy: 0.9105 - val_loss: 0.1927 - val_accuracy: 0.9288\n",
      "Epoch 30/40\n",
      "421/421 - 21s - loss: 0.2497 - accuracy: 0.9116 - val_loss: 0.1862 - val_accuracy: 0.9297\n",
      "Epoch 31/40\n",
      "421/421 - 20s - loss: 0.2488 - accuracy: 0.9110 - val_loss: 0.1926 - val_accuracy: 0.9275\n",
      "Epoch 32/40\n",
      "421/421 - 19s - loss: 0.2491 - accuracy: 0.9113 - val_loss: 0.1876 - val_accuracy: 0.9297\n",
      "Epoch 33/40\n",
      "421/421 - 21s - loss: 0.2435 - accuracy: 0.9131 - val_loss: 0.1860 - val_accuracy: 0.9332\n",
      "Epoch 34/40\n",
      "421/421 - 19s - loss: 0.2442 - accuracy: 0.9128 - val_loss: 0.1947 - val_accuracy: 0.9270\n",
      "Epoch 35/40\n",
      "421/421 - 19s - loss: 0.2446 - accuracy: 0.9127 - val_loss: 0.1881 - val_accuracy: 0.9302\n",
      "Epoch 36/40\n",
      "421/421 - 20s - loss: 0.2474 - accuracy: 0.9114 - val_loss: 0.1859 - val_accuracy: 0.9313\n",
      "Epoch 37/40\n",
      "421/421 - 19s - loss: 0.2425 - accuracy: 0.9124 - val_loss: 0.1878 - val_accuracy: 0.9303\n",
      "Epoch 38/40\n",
      "421/421 - 19s - loss: 0.2461 - accuracy: 0.9128 - val_loss: 0.1891 - val_accuracy: 0.9292\n",
      "Epoch 39/40\n",
      "421/421 - 20s - loss: 0.2442 - accuracy: 0.9116 - val_loss: 0.1881 - val_accuracy: 0.9315\n",
      "Epoch 40/40\n",
      "421/421 - 20s - loss: 0.2416 - accuracy: 0.9147 - val_loss: 0.1851 - val_accuracy: 0.9320\n"
     ]
    }
   ],
   "source": [
    "#fit the model\n",
    "batch_size = 128\n",
    "epochs = 40\n",
    "history = model.fit_generator(datagen.flow(x_train,y_train,batch_size=batch_size),epochs=epochs,\n",
    "                             validation_data=(x_test,y_test),\n",
    "                             steps_per_epoch=x_train.shape[0]//batch_size,\n",
    "                             verbose=2,\n",
    "                             callbacks=[reduce_lr])"
   ]
  },
  {
   "cell_type": "code",
   "execution_count": 17,
   "metadata": {
    "execution": {
     "iopub.execute_input": "2020-11-23T13:31:08.891450Z",
     "iopub.status.busy": "2020-11-23T13:31:08.890214Z",
     "iopub.status.idle": "2020-11-23T13:31:09.494863Z",
     "shell.execute_reply": "2020-11-23T13:31:09.495409Z"
    },
    "papermill": {
     "duration": 0.658074,
     "end_time": "2020-11-23T13:31:09.495547",
     "exception": false,
     "start_time": "2020-11-23T13:31:08.837473",
     "status": "completed"
    },
    "tags": []
   },
   "outputs": [
    {
     "name": "stdout",
     "output_type": "stream",
     "text": [
      "188/188 [==============================] - 1s 3ms/step - loss: 0.1851 - accuracy: 0.9320\n",
      "Loss: 0.1851\n",
      "Accuracy: 0.9320\n"
     ]
    }
   ],
   "source": [
    "# evaluate model\n",
    "score = model.evaluate(x_test,y_test)\n",
    "print('Loss: {:.4f}'.format(score[0]))\n",
    "print('Accuracy: {:.4f}'.format(score[1]))"
   ]
  },
  {
   "cell_type": "code",
   "execution_count": 18,
   "metadata": {
    "execution": {
     "iopub.execute_input": "2020-11-23T13:31:09.614695Z",
     "iopub.status.busy": "2020-11-23T13:31:09.613924Z",
     "iopub.status.idle": "2020-11-23T13:31:11.263670Z",
     "shell.execute_reply": "2020-11-23T13:31:11.264107Z"
    },
    "papermill": {
     "duration": 1.715019,
     "end_time": "2020-11-23T13:31:11.264259",
     "exception": false,
     "start_time": "2020-11-23T13:31:09.549240",
     "status": "completed"
    },
    "tags": []
   },
   "outputs": [
    {
     "name": "stdout",
     "output_type": "stream",
     "text": [
      "lowest train loss:0.2416\n",
      "lowest val loss:0.1851\n"
     ]
    },
    {
     "data": {
      "image/png": "[encoded data removed]",
      "text/plain": [
       "<Figure size 432x288 with 1 Axes>"
      ]
     },
     "metadata": {},
     "output_type": "display_data"
    },
    {
     "data": {
      "image/png": "[encoded data removed]",
      "text/plain": [
       "<Figure size 432x288 with 1 Axes>"
      ]
     },
     "metadata": {},
     "output_type": "display_data"
    },
    {
     "data": {
      "image/png": "[encoded data removed]",
      "text/plain": [
       "<Figure size 432x432 with 2 Axes>"
      ]
     },
     "metadata": {},
     "output_type": "display_data"
    }
   ],
   "source": [
    "#plot graphs to visualize performance\n",
    "historyDF = pd.DataFrame(history.history)\n",
    "historyDF.loc[:,['loss','val_loss']].plot(title='Loss vs Epochs')\n",
    "historyDF.loc[:,['accuracy','val_accuracy']].plot(title='Accuracy vs Epochs')\n",
    "y_pred = model.predict(x_test)\n",
    "y_pred_classes = np.argmax(y_pred,axis=1)\n",
    "y_truth = np.argmax(y_test,axis=1)\n",
    "confusion_mtx = confusion_matrix(y_truth,y_pred_classes)\n",
    "figr,axs = plt.subplots(figsize=(6,6))\n",
    "sns.heatmap(confusion_mtx,annot=True,cmap='Greens',fmt='.1f',linewidths=0.01,linecolor='green',ax=axs)\n",
    "plt.title('confusion matrix')\n",
    "plt.xlabel('predicted label')\n",
    "plt.ylabel('true label')\n",
    "print('lowest train loss:{:.4f}\\nlowest val loss:{:.4f}'.format(min(historyDF[:]['loss']),min(historyDF[:]['val_loss'])))"
   ]
  },
  {
   "cell_type": "code",
   "execution_count": 19,
   "metadata": {
    "execution": {
     "iopub.execute_input": "2020-11-23T13:31:11.389991Z",
     "iopub.status.busy": "2020-11-23T13:31:11.389146Z",
     "iopub.status.idle": "2020-11-23T13:31:11.409911Z",
     "shell.execute_reply": "2020-11-23T13:31:11.410645Z"
    },
    "papermill": {
     "duration": 0.08386,
     "end_time": "2020-11-23T13:31:11.410822",
     "exception": false,
     "start_time": "2020-11-23T13:31:11.326962",
     "status": "completed"
    },
    "tags": []
   },
   "outputs": [
    {
     "name": "stdout",
     "output_type": "stream",
     "text": [
      "              precision    recall  f1-score   support\n",
      "\n",
      " T-shirt/Top       0.92      0.85      0.88       629\n",
      "     Trouser       0.99      0.98      0.99       580\n",
      "    Pullover       0.92      0.89      0.90       550\n",
      "       Dress       0.93      0.92      0.93       612\n",
      "        Coat       0.90      0.89      0.89       598\n",
      "      Sandal       1.00      0.98      0.99       613\n",
      "       Shirt       0.76      0.88      0.81       592\n",
      "     Sneaker       0.95      0.99      0.97       594\n",
      "         Bag       0.99      0.98      0.99       623\n",
      "  Ankle Boot       0.99      0.96      0.97       609\n",
      "\n",
      "    accuracy                           0.93      6000\n",
      "   macro avg       0.93      0.93      0.93      6000\n",
      "weighted avg       0.93      0.93      0.93      6000\n",
      "\n"
     ]
    }
   ],
   "source": [
    "# classification report to check precision,recall,F1 score and support\n",
    "classes = ['T-shirt/Top','Trouser','Pullover','Dress','Coat','Sandal','Shirt','Sneaker','Bag','Ankle Boot']\n",
    "print(classification_report(y_truth, y_pred_classes, target_names = classes))"
   ]
  },
  {
   "cell_type": "code",
   "execution_count": 20,
   "metadata": {
    "execution": {
     "iopub.execute_input": "2020-11-23T13:31:11.534593Z",
     "iopub.status.busy": "2020-11-23T13:31:11.533597Z",
     "iopub.status.idle": "2020-11-23T13:31:12.512364Z",
     "shell.execute_reply": "2020-11-23T13:31:12.511230Z"
    },
    "papermill": {
     "duration": 1.04109,
     "end_time": "2020-11-23T13:31:12.512531",
     "exception": false,
     "start_time": "2020-11-23T13:31:11.471441",
     "status": "completed"
    },
    "tags": []
   },
   "outputs": [
    {
     "name": "stdout",
     "output_type": "stream",
     "text": [
      "313/313 [==============================] - 1s 3ms/step - loss: 0.1884 - accuracy: 0.9304\n",
      "Loss : 0.1884\n",
      "Accuracy: 0.9304\n"
     ]
    }
   ],
   "source": [
    "# predictions on test data\n",
    "X = df_test\n",
    "Y = to_categorical(test.iloc[:,0])\n",
    "score = model.evaluate(X,Y)\n",
    "print('Loss : {:.4f}'.format(score[0]))\n",
    "print('Accuracy: {:.4f}'.format(score[1]))"
   ]
  },
  {
   "cell_type": "code",
   "execution_count": 21,
   "metadata": {
    "execution": {
     "iopub.execute_input": "2020-11-23T13:31:12.656956Z",
     "iopub.status.busy": "2020-11-23T13:31:12.655396Z",
     "iopub.status.idle": "2020-11-23T13:31:13.011564Z",
     "shell.execute_reply": "2020-11-23T13:31:13.011015Z"
    },
    "papermill": {
     "duration": 0.433086,
     "end_time": "2020-11-23T13:31:13.011677",
     "exception": false,
     "start_time": "2020-11-23T13:31:12.578591",
     "status": "completed"
    },
    "tags": []
   },
   "outputs": [
    {
     "name": "stdout",
     "output_type": "stream",
     "text": [
      "prediction is : Sneaker\n"
     ]
    },
    {
     "data": {
      "image/png": "[encoded data removed]",
      "text/plain": [
       "<Figure size 432x288 with 1 Axes>"
      ]
     },
     "metadata": {},
     "output_type": "display_data"
    }
   ],
   "source": [
    "# invidual predictions\n",
    "idx = 7211 #change to see prediction\n",
    "img = X[idx].reshape(1,28,28,1)\n",
    "plt.imshow(img.reshape(28,28),cmap='gray')\n",
    "prediction = model.predict(img)\n",
    "print('prediction is :', classes[np.argmax(prediction)])"
   ]
  }
 ],
 "metadata": {
  "kernelspec": {
   "display_name": "Python 3",
   "language": "python",
   "name": "python3"
  },
  "language_info": {
   "codemirror_mode": {
    "name": "ipython",
    "version": 3
   },
   "file_extension": ".py",
   "mimetype": "text/x-python",
   "name": "python",
   "nbconvert_exporter": "python",
   "pygments_lexer": "ipython3",
   "version": "3.7.6"
  },
  "papermill": {
   "duration": 858.075385,
   "end_time": "2020-11-23T13:31:14.431324",
   "environment_variables": {},
   "exception": null,
   "input_path": "__notebook__.ipynb",
   "output_path": "__notebook__.ipynb",
   "parameters": {},
   "start_time": "2020-11-23T13:16:56.355939",
   "version": "2.1.0"
  }
 },
 "nbformat": 4,
 "nbformat_minor": 4
}
